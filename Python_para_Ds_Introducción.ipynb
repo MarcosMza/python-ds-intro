{
  "nbformat": 4,
  "nbformat_minor": 0,
  "metadata": {
    "colab": {
      "provenance": [],
      "authorship_tag": "ABX9TyPIXnv7My+D50CNXNIxOlV9",
      "include_colab_link": true
    },
    "kernelspec": {
      "name": "python3",
      "display_name": "Python 3"
    },
    "language_info": {
      "name": "python"
    }
  },
  "cells": [
    {
      "cell_type": "markdown",
      "metadata": {
        "id": "view-in-github",
        "colab_type": "text"
      },
      "source": [
        "<a href=\"https://colab.research.google.com/github/MarcosMza/python-ds-intro/blob/main/Python_para_Ds_Introducci%C3%B3n.ipynb\" target=\"_parent\"><img src=\"https://colab.research.google.com/assets/colab-badge.svg\" alt=\"Open In Colab\"/></a>"
      ]
    },
    {
      "cell_type": "markdown",
      "source": [
        "#**Python para DS - Introducción al Lenguaje**"
      ],
      "metadata": {
        "id": "XGHRtD1IV-No"
      }
    },
    {
      "cell_type": "code",
      "execution_count": null,
      "metadata": {
        "colab": {
          "base_uri": "https://localhost:8080/"
        },
        "id": "8xxYfc11VtIu",
        "outputId": "3bde0c6e-671b-4cf7-e8b9-b84ed1c0741d"
      },
      "outputs": [
        {
          "output_type": "execute_result",
          "data": {
            "text/plain": [
              "2"
            ]
          },
          "metadata": {},
          "execution_count": 1
        }
      ],
      "source": [
        "1 + 1"
      ]
    },
    {
      "cell_type": "code",
      "source": [
        "'Marcos'"
      ],
      "metadata": {
        "colab": {
          "base_uri": "https://localhost:8080/",
          "height": 35
        },
        "id": "8Qo_blrPW03a",
        "outputId": "5c2d32c3-9643-4a5d-9b7e-f333ef308ba9"
      },
      "execution_count": null,
      "outputs": [
        {
          "output_type": "execute_result",
          "data": {
            "text/plain": [
              "'Marcos'"
            ],
            "application/vnd.google.colaboratory.intrinsic+json": {
              "type": "string"
            }
          },
          "metadata": {},
          "execution_count": 2
        }
      ]
    },
    {
      "cell_type": "code",
      "source": [
        "nombre = 'Marcos'"
      ],
      "metadata": {
        "id": "eq5mWF26XAPW"
      },
      "execution_count": null,
      "outputs": []
    },
    {
      "cell_type": "code",
      "source": [
        "nombre"
      ],
      "metadata": {
        "colab": {
          "base_uri": "https://localhost:8080/",
          "height": 35
        },
        "id": "T-0J6ovLXxQu",
        "outputId": "b4373f13-7ea3-40d9-b67b-e60d58381510"
      },
      "execution_count": null,
      "outputs": [
        {
          "output_type": "execute_result",
          "data": {
            "text/plain": [
              "'Marcos'"
            ],
            "application/vnd.google.colaboratory.intrinsic+json": {
              "type": "string"
            }
          },
          "metadata": {},
          "execution_count": 5
        }
      ]
    },
    {
      "cell_type": "code",
      "source": [
        "edad = 39"
      ],
      "metadata": {
        "id": "8JyxQ4ZDX159"
      },
      "execution_count": null,
      "outputs": []
    },
    {
      "cell_type": "code",
      "source": [
        "edad"
      ],
      "metadata": {
        "colab": {
          "base_uri": "https://localhost:8080/"
        },
        "id": "hbKz9YvnX5k9",
        "outputId": "b81d8fce-ee3d-46de-b9ec-d46d17cf9f0c"
      },
      "execution_count": null,
      "outputs": [
        {
          "output_type": "execute_result",
          "data": {
            "text/plain": [
              "39"
            ]
          },
          "metadata": {},
          "execution_count": 7
        }
      ]
    },
    {
      "cell_type": "markdown",
      "source": [
        "#Mi primera Función"
      ],
      "metadata": {
        "id": "CDu-PR3oZJWp"
      }
    },
    {
      "cell_type": "code",
      "source": [
        "# - print - Funcion primitiva de Python para imprimir el parametro o mensaje\n",
        "print('El nombre es Marcos y su edad es 39 años')"
      ],
      "metadata": {
        "colab": {
          "base_uri": "https://localhost:8080/"
        },
        "id": "NJYQP9SvX7Kd",
        "outputId": "2df71c71-e040-4f21-c781-1821271e8fd3"
      },
      "execution_count": null,
      "outputs": [
        {
          "output_type": "stream",
          "name": "stdout",
          "text": [
            "El nombre es Marcos y su edad es 39 años\n"
          ]
        }
      ]
    },
    {
      "cell_type": "code",
      "source": [
        "# haciendo uso de las variables, nombre y edad\n",
        "print(f'El nombre es {nombre} y su edad es {edad} años')"
      ],
      "metadata": {
        "colab": {
          "base_uri": "https://localhost:8080/"
        },
        "id": "LwTIZVYmZF-_",
        "outputId": "6fb141a4-18bc-44f6-a94f-16aaad73dcbd"
      },
      "execution_count": null,
      "outputs": [
        {
          "output_type": "stream",
          "name": "stdout",
          "text": [
            "El nombre es Marcos y su edad es 39 años\n"
          ]
        }
      ]
    },
    {
      "cell_type": "code",
      "source": [
        "# Definimos una función de nombre - saludar -\n",
        "def saludar():\n",
        "  # - input - función primitiva de Python para ingresar el dato por consola\n",
        "  nombre = input('Digite su nombre: ')\n",
        "  print(f'Hola {nombre} sea bienvenido!!!')"
      ],
      "metadata": {
        "id": "Yc69EsG7Z4x5"
      },
      "execution_count": null,
      "outputs": []
    },
    {
      "cell_type": "code",
      "source": [
        "saludar()"
      ],
      "metadata": {
        "colab": {
          "base_uri": "https://localhost:8080/"
        },
        "id": "7RcMOvbBaxjc",
        "outputId": "55caf092-5de7-4d32-8d1a-f1d0061b32c3"
      },
      "execution_count": null,
      "outputs": [
        {
          "output_type": "stream",
          "name": "stdout",
          "text": [
            "Digite su nombre: Marcos\n",
            "Hola Marcos sea bienvenido!!!\n"
          ]
        }
      ]
    },
    {
      "cell_type": "code",
      "source": [
        "saludar()"
      ],
      "metadata": {
        "colab": {
          "base_uri": "https://localhost:8080/"
        },
        "id": "pbjVqxrHbMhM",
        "outputId": "5b08a821-659d-499d-bd0e-8771da733c2f"
      },
      "execution_count": null,
      "outputs": [
        {
          "output_type": "stream",
          "name": "stdout",
          "text": [
            "Digite su nombre: Veronica\n",
            "Hola Veronica sea bienvenido!!!\n"
          ]
        }
      ]
    },
    {
      "cell_type": "code",
      "source": [
        "# Definimos la función - nombre completo -\n",
        "def nombre_completo():\n",
        "   # utilizamos -input- para ingresar el nombre por teclado\n",
        "   primer_nombre = input('¿Cuál es tu primer nombre? ')\n",
        "   # utilizamos -input- para ingresar el apellido por teclado\n",
        "   apellido = input('¿Cuál es tu apellido? ')\n",
        "   # realizamos la concatenacion de las dos variables\n",
        "   nombre_completo = primer_nombre + ' ' + apellido\n",
        "   print(nombre_completo)\n",
        "\n",
        "# hacemos el llamado de la funcion para poder ver por pantalla\n",
        "nombre_completo()"
      ],
      "metadata": {
        "colab": {
          "base_uri": "https://localhost:8080/"
        },
        "id": "_g9PMrGSbSSa",
        "outputId": "666e6f86-a84f-41b2-877f-12cfc4a6dee4"
      },
      "execution_count": null,
      "outputs": [
        {
          "output_type": "stream",
          "name": "stdout",
          "text": [
            "¿Cuál es tu primer nombre? Marcos\n",
            "¿Cuál es tu apellido? Lana\n",
            "Marcos Lana\n"
          ]
        }
      ]
    },
    {
      "cell_type": "markdown",
      "source": [
        "#Parámetros"
      ],
      "metadata": {
        "id": "29JKfgdQs6ep"
      }
    },
    {
      "cell_type": "code",
      "source": [
        "nombre = 'Veronica'"
      ],
      "metadata": {
        "id": "d2RmR00vsIam"
      },
      "execution_count": null,
      "outputs": []
    },
    {
      "cell_type": "code",
      "source": [
        "def saludar_con_parametros(nombre):\n",
        "  print(f'Hola {nombre} sea bienvenida!!!')"
      ],
      "metadata": {
        "id": "PdcrSw69sMuK"
      },
      "execution_count": null,
      "outputs": []
    },
    {
      "cell_type": "code",
      "source": [
        "saludar_con_parametros(nombre)"
      ],
      "metadata": {
        "colab": {
          "base_uri": "https://localhost:8080/"
        },
        "id": "AMOZVkDlshh2",
        "outputId": "50e31cb5-fe5c-414b-9aa5-c1bf826a3def"
      },
      "execution_count": null,
      "outputs": [
        {
          "output_type": "stream",
          "name": "stdout",
          "text": [
            "Hola Veronica sea bienvenida!!!\n"
          ]
        }
      ]
    },
    {
      "cell_type": "code",
      "source": [
        "# Ejercicio de prueba: Calulo de Velocidad de una persona que camina 100 en 20 seg\n",
        "# Definimos la func. velocidad con los argumentos espacio y tiempo\n",
        "def velocidad(espacio, tiempo):\n",
        "  v = espacio/tiempo\n",
        "  print(f'velocidad {v} m/s ')\n",
        "# Realizamos la llamada de la func\n",
        "velocidad(100,20)"
      ],
      "metadata": {
        "id": "doi31bXrsk_l",
        "colab": {
          "base_uri": "https://localhost:8080/"
        },
        "outputId": "566ca131-d3f2-4eca-8361-0e7373d0d0b5"
      },
      "execution_count": null,
      "outputs": [
        {
          "output_type": "stream",
          "name": "stdout",
          "text": [
            "velocidad 5.0 m/s \n"
          ]
        }
      ]
    },
    {
      "cell_type": "markdown",
      "source": [
        "#Condicionales"
      ],
      "metadata": {
        "id": "IoZT1c0F8XAt"
      }
    },
    {
      "cell_type": "code",
      "source": [
        "# En este caso vamos a utilizar el condicional if = si, y else = sino\n",
        "# (if) Si es éste caso, o (else) es éste otro caso\n",
        "edad = 15\n",
        "\n",
        "def verificar_si_puede_conducir(edad):\n",
        "  if edad >= 18:\n",
        "    print(\"Usted tiene edad suficiente para conducir\")\n",
        "  else:\n",
        "    print(\"Usted NO tiene edad suficiente para condicir\")\n",
        "\n",
        "verificar_si_puede_conducir(edad)"
      ],
      "metadata": {
        "colab": {
          "base_uri": "https://localhost:8080/"
        },
        "id": "EdvmDOm45KTL",
        "outputId": "7a3881dd-d893-4e95-8e2e-9c2fdd8bdec6"
      },
      "execution_count": null,
      "outputs": [
        {
          "output_type": "stream",
          "name": "stdout",
          "text": [
            "Usted NO tiene edad suficiente para condicir\n"
          ]
        }
      ]
    },
    {
      "cell_type": "code",
      "source": [
        "# Ejemplo de una nota de un alumno con if, else anidados\n",
        "# la func clasificar_nps busca segun lo que tiene como parametro, La nota del alumno\n",
        "\n",
        "def clasificar_nps(nota):\n",
        "  if nota <= 6:\n",
        "    print('El alumno es considerado Detractor')\n",
        "  else:\n",
        "    if nota <= 8:\n",
        "      print('El alumno es considerado Neutro')\n",
        "    else:\n",
        "      print('El alumno es considerado Promotor')\n",
        "\n",
        "clasificar_nps(9)\n"
      ],
      "metadata": {
        "colab": {
          "base_uri": "https://localhost:8080/"
        },
        "id": "cN4tQ4LN5-PK",
        "outputId": "1a85a6d0-b90d-4ecb-87df-27c369a20ef5"
      },
      "execution_count": null,
      "outputs": [
        {
          "output_type": "stream",
          "name": "stdout",
          "text": [
            "El alumno es considerado Promotor\n"
          ]
        }
      ]
    },
    {
      "cell_type": "markdown",
      "source": [
        "#Condicionales sin parámetro y conversión de tipo de dato"
      ],
      "metadata": {
        "id": "PLULxx0r-k10"
      }
    },
    {
      "cell_type": "code",
      "source": [
        "def verificar_si_puede_conducir_sin_parametros():\n",
        "  # Tener cuidado porque al ingresar por teclado, se ingresa un str\n",
        "  edad = input('Digite su edad: ')\n",
        "  # de ésta forma transformamos la variable 'edad' de str a int\n",
        "  edad = int(edad)\n",
        "  if edad >= 18:\n",
        "    print(\"Usted tiene edad suficiente para conducir\")\n",
        "  else:\n",
        "    print(\"Usted NO tiene edad suficiente para condicir\")\n",
        "\n",
        "verificar_si_puede_conducir_sin_parametros()"
      ],
      "metadata": {
        "colab": {
          "base_uri": "https://localhost:8080/"
        },
        "id": "XAtlp8pB8Edm",
        "outputId": "a829825f-1bbc-4dde-a7b5-153545372d63"
      },
      "execution_count": null,
      "outputs": [
        {
          "output_type": "stream",
          "name": "stdout",
          "text": [
            "Digite su edad: 20\n",
            "Usted tiene edad suficiente para conducir\n"
          ]
        }
      ]
    },
    {
      "cell_type": "code",
      "source": [
        "# Ejercicio para predecir la edad para poder conducir, según la edad ingresada por el usuario\n",
        "def permiso_de_conducir():\n",
        " edad = input('¿Cuál es tu edad? ')\n",
        " edad = int(edad)\n",
        " if edad >= 18:\n",
        "   print('Ya tienes edad suficiente para obtener permiso de conducir')\n",
        " else:\n",
        "   # en este paso se calcula en la variable tiempo de 18 años que se tiene que tener para condicir\n",
        "   # menos la edad ingresada y calcular cuanto tiempo queda para poder tener permiso de conducir\n",
        "   tiempo = 18 - edad\n",
        "   print(f'Tranquilo, faltan {tiempo} año(s) para obtener permiso de conducir')\n",
        "\n",
        "permiso_de_conducir()"
      ],
      "metadata": {
        "colab": {
          "base_uri": "https://localhost:8080/"
        },
        "id": "uxF6CdSC9Ouz",
        "outputId": "9b4d639a-4f8a-497f-9c18-7ac25636595c"
      },
      "execution_count": null,
      "outputs": [
        {
          "output_type": "stream",
          "name": "stdout",
          "text": [
            "¿Cuál es tu edad? 15\n",
            "Tranquilo, faltan 3 año(s) para obtener permiso de conducir\n"
          ]
        }
      ]
    },
    {
      "cell_type": "markdown",
      "source": [
        "#Listas"
      ],
      "metadata": {
        "id": "6q-rMTSJOWKs"
      }
    },
    {
      "cell_type": "code",
      "source": [
        "# Listas - numeros entre corchetes, separados por ,\n",
        "edades = [18,15,12,45,50]"
      ],
      "metadata": {
        "id": "nlHk44eVNTnN"
      },
      "execution_count": null,
      "outputs": []
    },
    {
      "cell_type": "code",
      "source": [
        "edades"
      ],
      "metadata": {
        "colab": {
          "base_uri": "https://localhost:8080/"
        },
        "id": "vSOifagPNwUm",
        "outputId": "b52a56f3-fdaf-4175-d6f8-ed986d3f4f88"
      },
      "execution_count": null,
      "outputs": [
        {
          "output_type": "execute_result",
          "data": {
            "text/plain": [
              "[18, 15, 12, 45, 50]"
            ]
          },
          "metadata": {},
          "execution_count": 40
        }
      ]
    },
    {
      "cell_type": "code",
      "source": [
        "# Función -type- nos da el tipo de tatos con el que estamos trabajando\n",
        "type(edad)"
      ],
      "metadata": {
        "colab": {
          "base_uri": "https://localhost:8080/"
        },
        "id": "JNjnQbuJNxk1",
        "outputId": "feb71b69-5da5-4510-f15f-4205ac9a8494"
      },
      "execution_count": null,
      "outputs": [
        {
          "output_type": "execute_result",
          "data": {
            "text/plain": [
              "int"
            ]
          },
          "metadata": {},
          "execution_count": 41
        }
      ]
    },
    {
      "cell_type": "code",
      "source": [
        "type(nombre)"
      ],
      "metadata": {
        "colab": {
          "base_uri": "https://localhost:8080/"
        },
        "id": "zHcDKCcVOFYf",
        "outputId": "49afb3f3-eed5-4308-a3c0-4952ca596a1a"
      },
      "execution_count": null,
      "outputs": [
        {
          "output_type": "execute_result",
          "data": {
            "text/plain": [
              "str"
            ]
          },
          "metadata": {},
          "execution_count": 42
        }
      ]
    },
    {
      "cell_type": "code",
      "source": [
        "type(edades)"
      ],
      "metadata": {
        "colab": {
          "base_uri": "https://localhost:8080/"
        },
        "id": "jrwkzeCdOJIl",
        "outputId": "db08b4d7-03a5-470a-f5dc-7742c77ce753"
      },
      "execution_count": null,
      "outputs": [
        {
          "output_type": "execute_result",
          "data": {
            "text/plain": [
              "list"
            ]
          },
          "metadata": {},
          "execution_count": 43
        }
      ]
    },
    {
      "cell_type": "code",
      "source": [
        "#Para poder acceder a los valores de la lista edades, lo realizamos con el uso de indices\n",
        "edades"
      ],
      "metadata": {
        "colab": {
          "base_uri": "https://localhost:8080/"
        },
        "id": "xmS4oHEoOMpl",
        "outputId": "13fa8ac6-b155-4729-ced9-786f776f694c"
      },
      "execution_count": null,
      "outputs": [
        {
          "output_type": "execute_result",
          "data": {
            "text/plain": [
              "[18, 15, 12, 45, 50]"
            ]
          },
          "metadata": {},
          "execution_count": 44
        }
      ]
    },
    {
      "cell_type": "code",
      "source": [
        "# tener en cuenta que el Python el primero valor = la posición 0\n",
        "# [18,15,12,45,50]\n",
        "#   0  1  2  3  4\n",
        "edades[1]"
      ],
      "metadata": {
        "colab": {
          "base_uri": "https://localhost:8080/"
        },
        "id": "zpCvRz0_O773",
        "outputId": "077081d2-2b78-4047-ae1b-47238c429a4b"
      },
      "execution_count": null,
      "outputs": [
        {
          "output_type": "execute_result",
          "data": {
            "text/plain": [
              "15"
            ]
          },
          "metadata": {},
          "execution_count": 45
        }
      ]
    },
    {
      "cell_type": "code",
      "source": [
        "# cuando quiero traer varios valores al mismo tiempo, en este caso no se toma el ultimo valor\n",
        "edades[0:2]"
      ],
      "metadata": {
        "colab": {
          "base_uri": "https://localhost:8080/"
        },
        "id": "MTpJIKZgPbqW",
        "outputId": "1018ca82-a243-4701-8d30-ffbb146441f1"
      },
      "execution_count": null,
      "outputs": [
        {
          "output_type": "execute_result",
          "data": {
            "text/plain": [
              "[18, 15]"
            ]
          },
          "metadata": {},
          "execution_count": 46
        }
      ]
    },
    {
      "cell_type": "code",
      "source": [
        "# cuando quiero llamar a todos\n",
        "edades [:]"
      ],
      "metadata": {
        "colab": {
          "base_uri": "https://localhost:8080/"
        },
        "id": "E4Qzl4AkPxRC",
        "outputId": "01cea412-4d3b-4cb3-9d7b-671d1473d366"
      },
      "execution_count": null,
      "outputs": [
        {
          "output_type": "execute_result",
          "data": {
            "text/plain": [
              "[18, 15, 12, 45, 50]"
            ]
          },
          "metadata": {},
          "execution_count": 47
        }
      ]
    },
    {
      "cell_type": "code",
      "source": [
        "# tambien podemos ralizar el llamado desde otro indice\n",
        "edades[2:]"
      ],
      "metadata": {
        "colab": {
          "base_uri": "https://localhost:8080/"
        },
        "id": "RCncy5UEP5Cf",
        "outputId": "d2233d12-7528-4aec-f379-bb04b7e1d5ae"
      },
      "execution_count": null,
      "outputs": [
        {
          "output_type": "execute_result",
          "data": {
            "text/plain": [
              "[12, 45, 50]"
            ]
          },
          "metadata": {},
          "execution_count": 48
        }
      ]
    },
    {
      "cell_type": "code",
      "source": [
        "# en caso de querer recorrer la lista de izquierda a derecha\n",
        "# [18,15,12,45,50]\n",
        "#   0  1  2  3  4\n",
        "#   0 -4 -3 -2 -1\n",
        "\n",
        "#de izq a der\n",
        "edades[-1]"
      ],
      "metadata": {
        "colab": {
          "base_uri": "https://localhost:8080/"
        },
        "id": "_kCRYlKFQNM6",
        "outputId": "4f2d37a3-eef8-4123-9e8b-60dafa2edd49"
      },
      "execution_count": null,
      "outputs": [
        {
          "output_type": "execute_result",
          "data": {
            "text/plain": [
              "50"
            ]
          },
          "metadata": {},
          "execution_count": 52
        }
      ]
    },
    {
      "cell_type": "code",
      "source": [
        "#de der a izq\n",
        "edades[2]"
      ],
      "metadata": {
        "colab": {
          "base_uri": "https://localhost:8080/"
        },
        "id": "snDt_vbRQtPh",
        "outputId": "ceda989b-c2db-45ea-e468-93f697376cb6"
      },
      "execution_count": null,
      "outputs": [
        {
          "output_type": "execute_result",
          "data": {
            "text/plain": [
              "12"
            ]
          },
          "metadata": {},
          "execution_count": 53
        }
      ]
    },
    {
      "cell_type": "code",
      "source": [
        "# Ejercicio: con palabras desordenadas armar la frase - Cursos de Tecnología y Negocios  Digitales\n",
        "frase_alura = [' Digitales', 'y ', 'Negocios ', 'de ', 'Tecnología ', 'Cursos ']\n",
        "# de der a izq\n",
        "frase_alura[5] + frase_alura[3] + frase_alura[4] + frase_alura[1] + frase_alura[2] + frase_alura[0]\n",
        "# de izq a der\n",
        "# frase_alura[-1] + frase_alura[-3] + frase_alura[-2] + frase_alura[-5] + frase_alura[-4] + frase_alura[0]"
      ],
      "metadata": {
        "colab": {
          "base_uri": "https://localhost:8080/",
          "height": 35
        },
        "id": "4SFmH4UmRk00",
        "outputId": "048d497f-68a1-4c4f-fd74-1461acd6d745"
      },
      "execution_count": null,
      "outputs": [
        {
          "output_type": "execute_result",
          "data": {
            "text/plain": [
              "'Cursos de Tecnología y Negocios  Digitales'"
            ],
            "application/vnd.google.colaboratory.intrinsic+json": {
              "type": "string"
            }
          },
          "metadata": {},
          "execution_count": 55
        }
      ]
    },
    {
      "cell_type": "markdown",
      "source": [
        "#Ciclos y Bucles  "
      ],
      "metadata": {
        "id": "sW0N_C11V2LS"
      }
    },
    {
      "cell_type": "code",
      "source": [
        "#Bucle fuera de la Función\n",
        "# en este caso aplicaremos el ciclo 'for'-  conocido como ciclo 'para'\n",
        "edades = [18,15,12,45,50]\n",
        "\n",
        "def verificar_si_puede_conducir(edad):\n",
        "  if edad >= 18:\n",
        "    print(\"Usted tiene edad suficiente para conducir\")\n",
        "  else:\n",
        "    print(\"Usted NO tiene edad suficiente para condicir\")\n",
        "\n",
        "#para cada edad dentro de la lista edades: lo vamos a pasar al lenguaje Python\n",
        "for edad in edades:\n",
        "  verificar_si_puede_conducir(edad)"
      ],
      "metadata": {
        "colab": {
          "base_uri": "https://localhost:8080/"
        },
        "id": "fi_vuJA7ScGj",
        "outputId": "cc9af4c1-d18d-492b-b24f-163ddb006170"
      },
      "execution_count": null,
      "outputs": [
        {
          "output_type": "stream",
          "name": "stdout",
          "text": [
            "Usted tiene edad suficiente para conducir\n",
            "Usted NO tiene edad suficiente para condicir\n",
            "Usted NO tiene edad suficiente para condicir\n",
            "Usted tiene edad suficiente para conducir\n",
            "Usted tiene edad suficiente para conducir\n"
          ]
        }
      ]
    },
    {
      "cell_type": "code",
      "source": [
        "#Bucle dentro de la Función\n",
        "edades = [18,15,12,45,50]\n",
        "\n",
        "def verificar_si_puede_conducir_con_bucle(edades):\n",
        "  for edad in edades:\n",
        "    if edad >= 18:\n",
        "      print(\"Usted tiene edad suficiente para conducir\")\n",
        "    else:\n",
        "      print(\"Usted NO tiene edad suficiente para condicir\")\n",
        "\n",
        "verificar_si_puede_conducir_con_bucle(edades)"
      ],
      "metadata": {
        "colab": {
          "base_uri": "https://localhost:8080/"
        },
        "id": "z0NlRq-7WMTb",
        "outputId": "5c2ea06a-a8b6-4844-b30f-eb91ca0c2c3b"
      },
      "execution_count": null,
      "outputs": [
        {
          "output_type": "stream",
          "name": "stdout",
          "text": [
            "Usted tiene edad suficiente para conducir\n",
            "Usted NO tiene edad suficiente para condicir\n",
            "Usted NO tiene edad suficiente para condicir\n",
            "Usted tiene edad suficiente para conducir\n",
            "Usted tiene edad suficiente para conducir\n"
          ]
        }
      ]
    },
    {
      "cell_type": "markdown",
      "source": [
        "#Booleano\n"
      ],
      "metadata": {
        "id": "8hu2ZxFcd0S0"
      }
    },
    {
      "cell_type": "code",
      "source": [
        "edad = 18"
      ],
      "metadata": {
        "id": "WFcYtjtjWsmK"
      },
      "execution_count": null,
      "outputs": []
    },
    {
      "cell_type": "code",
      "source": [
        "edad >= 18"
      ],
      "metadata": {
        "colab": {
          "base_uri": "https://localhost:8080/"
        },
        "id": "BlCKyClLd_j_",
        "outputId": "d5dad2b0-55bb-419b-8164-2fd77b0410b4"
      },
      "execution_count": null,
      "outputs": [
        {
          "output_type": "execute_result",
          "data": {
            "text/plain": [
              "True"
            ]
          },
          "metadata": {},
          "execution_count": 2
        }
      ]
    },
    {
      "cell_type": "code",
      "source": [
        "edad < 18"
      ],
      "metadata": {
        "colab": {
          "base_uri": "https://localhost:8080/"
        },
        "id": "rIhQTO3BeDgH",
        "outputId": "65585b52-6d81-4384-d0f5-f048e1b26a53"
      },
      "execution_count": null,
      "outputs": [
        {
          "output_type": "execute_result",
          "data": {
            "text/plain": [
              "False"
            ]
          },
          "metadata": {},
          "execution_count": 3
        }
      ]
    },
    {
      "cell_type": "code",
      "source": [
        "edad == 18"
      ],
      "metadata": {
        "colab": {
          "base_uri": "https://localhost:8080/"
        },
        "id": "p2Gom6g1eIHN",
        "outputId": "e8e2ecb0-8eac-4665-e7d0-eac9727bd074"
      },
      "execution_count": null,
      "outputs": [
        {
          "output_type": "execute_result",
          "data": {
            "text/plain": [
              "True"
            ]
          },
          "metadata": {},
          "execution_count": 4
        }
      ]
    },
    {
      "cell_type": "code",
      "source": [
        "# Definimos una lista vacia en la cual se van a guardar los datos cuando compare y una con los datos de las edades\n",
        "verificaciones = []\n",
        "edades = [13,15,20]\n",
        "\n",
        "def verificar_si_puede_conducir_bool(verificaciones,edades):\n",
        "  # Primer for para recorrer la lista edades\n",
        "  for edad in edades:\n",
        "    if edad >= 18:\n",
        "      #func append = me permite adicionar valores, en este caso va a ser True o False a la lista verificaciones\n",
        "      verificaciones.append(True)\n",
        "    else:\n",
        "      verificaciones.append(False)\n",
        "  # Segundo for para recorrer los datos que se han ingresado en la lista verificacion\n",
        "  # la lista verificacion ahora tiene los valores de True y False\n",
        "  for verificacion in verificaciones:\n",
        "    if verificacion == True:\n",
        "      print('Usted tiene edad suficiente para conducir')\n",
        "    else:\n",
        "      print('Usted NO tiene edad suficiente para condicir')\n",
        "#Invocamos o llamamos a la funcion con los parametros\n",
        "verificar_si_puede_conducir_bool(verificaciones,edades)"
      ],
      "metadata": {
        "id": "m4r7BhaweK0M",
        "colab": {
          "base_uri": "https://localhost:8080/"
        },
        "outputId": "4a6a5fae-4f24-4c2f-bad5-c5d9d3718f17"
      },
      "execution_count": null,
      "outputs": [
        {
          "output_type": "stream",
          "name": "stdout",
          "text": [
            "Usted NO tiene edad suficiente para condicir\n",
            "Usted NO tiene edad suficiente para condicir\n",
            "Usted tiene edad suficiente para conducir\n"
          ]
        }
      ]
    },
    {
      "cell_type": "code",
      "source": [
        "#aca vemos con los datos que se ingresan a la lista verificaciones\n",
        "#cuando se utiliza el primer for que recorre la lista edades\n",
        "verificaciones"
      ],
      "metadata": {
        "id": "zTPvXPu-gTVj",
        "colab": {
          "base_uri": "https://localhost:8080/"
        },
        "outputId": "268a5048-bb73-489e-ff64-98d9ee51b197"
      },
      "execution_count": null,
      "outputs": [
        {
          "output_type": "execute_result",
          "data": {
            "text/plain": [
              "[False, False, True]"
            ]
          },
          "metadata": {},
          "execution_count": 10
        }
      ]
    },
    {
      "cell_type": "code",
      "source": [
        "# Ejercicio\n",
        "# variable\n",
        "a=2\n",
        "#condicional if verifica si es menor que 2\n",
        "if a < 2:\n",
        " a = a + 1\n",
        "else:\n",
        " a = a + 2\n",
        "#2do if verifica si es menor que 4\n",
        "if a < 4:\n",
        " a = a - 4\n",
        "else:\n",
        " a = a + 6\n",
        "#resultado de la operacion obtenido por la variable a\n",
        "a"
      ],
      "metadata": {
        "colab": {
          "base_uri": "https://localhost:8080/"
        },
        "id": "nY9nwPJUiW41",
        "outputId": "ddeab3f8-89b6-4bf8-8cca-35459a8a28d9"
      },
      "execution_count": null,
      "outputs": [
        {
          "output_type": "execute_result",
          "data": {
            "text/plain": [
              "10"
            ]
          },
          "metadata": {},
          "execution_count": 12
        }
      ]
    },
    {
      "cell_type": "markdown",
      "source": [
        "#Lista con diferentes tipos de datos"
      ],
      "metadata": {
        "id": "imAjAw5dlR9S"
      }
    },
    {
      "cell_type": "code",
      "source": [
        "#generamos una lista de nombre persona con los datos de la persona\n",
        "persona = ['Francesca',18,True,'Argentina']"
      ],
      "metadata": {
        "id": "eBFkSWvPkVma"
      },
      "execution_count": null,
      "outputs": []
    },
    {
      "cell_type": "code",
      "source": [
        "persona"
      ],
      "metadata": {
        "colab": {
          "base_uri": "https://localhost:8080/"
        },
        "id": "5K0IWHZjkqwr",
        "outputId": "03ee1389-b7dc-4b52-fe79-61e23b50751a"
      },
      "execution_count": null,
      "outputs": [
        {
          "output_type": "execute_result",
          "data": {
            "text/plain": [
              "['Francesca', 8, True, 'Argentina']"
            ]
          },
          "metadata": {},
          "execution_count": 17
        }
      ]
    },
    {
      "cell_type": "code",
      "source": [
        "#Rezalismos un ciclo for para recorer todos los elementos de la lista persona\n",
        "for elemento in persona:\n",
        "  #concatenamos en el print para poder identificar que tipos de datos es cada uno de los\n",
        "  #elementos de la lista\n",
        "  print(f'El elemento {elemento} de la lista es de tipo ', type(elemento))\n"
      ],
      "metadata": {
        "colab": {
          "base_uri": "https://localhost:8080/"
        },
        "id": "G8XZJCHEllyj",
        "outputId": "bb67930d-0fcf-48eb-a9fe-21fd4e5fe53e"
      },
      "execution_count": null,
      "outputs": [
        {
          "output_type": "stream",
          "name": "stdout",
          "text": [
            "El elemento Francesca de la lista es de tipo  <class 'str'>\n",
            "El elemento 8 de la lista es de tipo  <class 'int'>\n",
            "El elemento True de la lista es de tipo  <class 'bool'>\n",
            "El elemento Argentina de la lista es de tipo  <class 'str'>\n"
          ]
        }
      ]
    },
    {
      "cell_type": "code",
      "source": [
        "# Ejercicio:\n",
        "# tenemos una lista con elementos de diferentes tipos\n",
        "lista = ['int', False, True, '18', 2020]"
      ],
      "metadata": {
        "id": "4JUnEHD0nNJV"
      },
      "execution_count": null,
      "outputs": []
    },
    {
      "cell_type": "code",
      "source": [
        "#Aplicamos un bucle for para recorer la lista y que nos diga que tipo de elemento es cada uno\n",
        "for elemento in lista:\n",
        "  print(type(elemento))"
      ],
      "metadata": {
        "colab": {
          "base_uri": "https://localhost:8080/"
        },
        "id": "GbQlerD_qsS5",
        "outputId": "cdfd2080-d798-4ec4-c15d-33b9e33383a9"
      },
      "execution_count": null,
      "outputs": [
        {
          "output_type": "stream",
          "name": "stdout",
          "text": [
            "<class 'str'>\n",
            "<class 'bool'>\n",
            "<class 'bool'>\n",
            "<class 'str'>\n",
            "<class 'int'>\n"
          ]
        }
      ]
    },
    {
      "cell_type": "markdown",
      "source": [
        "#Importando una Biblioteca"
      ],
      "metadata": {
        "id": "Ek2o_7wrUAn-"
      }
    },
    {
      "cell_type": "code",
      "source": [
        "#En este caso vamos a importar una biblioteca, la cual tiene funciones para poder\n",
        "#utilizarlas para diversos fines\n",
        "#En este caso solo vamos a importar un modulo de la biblioteca -random-\n",
        "#vamos a importar tambien -seed- esto hace que los numeros aleatorios siempre sean los mismos\n",
        "from random import randrange,seed"
      ],
      "metadata": {
        "id": "mBxWP65Yqt4q"
      },
      "execution_count": 9,
      "outputs": []
    },
    {
      "cell_type": "code",
      "source": [
        "#esta función genera numeros aleatoreos con un rango establecido como parámetros\n",
        "#el segundo parametro es excluyente, lo cual no lo toma al 11\n",
        "randrange(0,11)"
      ],
      "metadata": {
        "colab": {
          "base_uri": "https://localhost:8080/"
        },
        "id": "_C9e1bADVIKy",
        "outputId": "8373c526-b330-44e0-bc58-ffb1ba2c3849"
      },
      "execution_count": 2,
      "outputs": [
        {
          "output_type": "execute_result",
          "data": {
            "text/plain": [
              "5"
            ]
          },
          "metadata": {},
          "execution_count": 2
        }
      ]
    },
    {
      "cell_type": "code",
      "source": [
        "#vamos a generar una lista vacia para poder almacenar los numeros aleatorios\n",
        "notas_matematicas = []"
      ],
      "metadata": {
        "id": "WVdxc0hfV0Av"
      },
      "execution_count": 3,
      "outputs": []
    },
    {
      "cell_type": "code",
      "source": [
        "#utilizamos la funcion append para agregar esos numeros a la lista vacia\n",
        "notas_matematicas.append(randrange(0,11))"
      ],
      "metadata": {
        "id": "77-MdQEGXBWg"
      },
      "execution_count": 4,
      "outputs": []
    },
    {
      "cell_type": "code",
      "source": [
        "#se van a ir colocando numeros en la lista en funcion a la cantidad de veces que la ejecutamos\n",
        "notas_matematicas"
      ],
      "metadata": {
        "colab": {
          "base_uri": "https://localhost:8080/"
        },
        "id": "rTYgCiZtXVdr",
        "outputId": "94e31d14-84ed-44b6-fe47-08718049acbb"
      },
      "execution_count": 5,
      "outputs": [
        {
          "output_type": "execute_result",
          "data": {
            "text/plain": [
              "[9]"
            ]
          },
          "metadata": {},
          "execution_count": 5
        }
      ]
    },
    {
      "cell_type": "code",
      "source": [
        "#para no tenes que estar ejecutando tantas veces, aplicamos un ciclo for asi el bucle lo hace solo\n",
        "notas_matematicas = []\n",
        "# -seed- con esta semilla se le da la orden de generar numeros aleatorios pero siempre los mismos\n",
        "seed(8)\n",
        "#en el range lo que le estamos piendiendo que solo se ejecute 6 veces el ciclo\n",
        "for notas in range(8):\n",
        "  notas_matematicas.append(randrange(0,11))"
      ],
      "metadata": {
        "id": "g55NxDJqXcWC"
      },
      "execution_count": 22,
      "outputs": []
    },
    {
      "cell_type": "code",
      "source": [
        "#realizamos el llamado de la funcion\n",
        "notas_matematicas"
      ],
      "metadata": {
        "colab": {
          "base_uri": "https://localhost:8080/"
        },
        "id": "zpbfKS2nYc5g",
        "outputId": "75643735-efc7-4636-bc16-401fdc2fd763"
      },
      "execution_count": 23,
      "outputs": [
        {
          "output_type": "execute_result",
          "data": {
            "text/plain": [
              "[3, 5, 6, 2, 3, 0, 1, 2]"
            ]
          },
          "metadata": {},
          "execution_count": 23
        }
      ]
    },
    {
      "cell_type": "code",
      "source": [
        "# -len- funcion primitiva de python que nos da el tamaño de la lista, cantidad de elementos\n",
        "len(notas_matematicas)"
      ],
      "metadata": {
        "colab": {
          "base_uri": "https://localhost:8080/"
        },
        "id": "dzYDrcQJYhu_",
        "outputId": "c6bb50da-a46b-4cb0-8355-2a63f4a31378"
      },
      "execution_count": 24,
      "outputs": [
        {
          "output_type": "execute_result",
          "data": {
            "text/plain": [
              "8"
            ]
          },
          "metadata": {},
          "execution_count": 24
        }
      ]
    },
    {
      "cell_type": "code",
      "source": [
        "#Para ver el tipo de randrange utilizamos la función type\n",
        "#donde vamos a ver que nos dice que es un 'metodo' de una bilioteca\n",
        "from random import randrange\n",
        "type(randrange)"
      ],
      "metadata": {
        "colab": {
          "base_uri": "https://localhost:8080/"
        },
        "id": "OOFoBXu_ZUCb",
        "outputId": "20de9940-3668-4a67-94ff-cf8be236e047"
      },
      "execution_count": 21,
      "outputs": [
        {
          "output_type": "execute_result",
          "data": {
            "text/plain": [
              "method"
            ]
          },
          "metadata": {},
          "execution_count": 21
        }
      ]
    },
    {
      "cell_type": "markdown",
      "source": [
        "#Bliblioteca Matplotlib para gráficos"
      ],
      "metadata": {
        "id": "ctRtrepuhIXA"
      }
    },
    {
      "cell_type": "code",
      "source": [
        "#Acá importamos la biblioteca 'matplotlib' y 'plt' se puede decir que es como el apodo de la biblioteca\n",
        "import matplotlib.pyplot as plt\n"
      ],
      "metadata": {
        "id": "BVM6LOzegmTh"
      },
      "execution_count": 25,
      "outputs": []
    },
    {
      "cell_type": "code",
      "source": [
        "#generamos una lista con 8 numeros para el eje 'x'\n",
        "#por lo que tenemos 8 notas la cuales estan designadas para el eje 'y'\n",
        "list(range(1,9))"
      ],
      "metadata": {
        "colab": {
          "base_uri": "https://localhost:8080/"
        },
        "id": "sy-FWWO0iGeW",
        "outputId": "ce6964b8-0c8e-4c14-fd03-5906a0d22aad"
      },
      "execution_count": 26,
      "outputs": [
        {
          "output_type": "execute_result",
          "data": {
            "text/plain": [
              "[1, 2, 3, 4, 5, 6, 7, 8]"
            ]
          },
          "metadata": {},
          "execution_count": 26
        }
      ]
    },
    {
      "cell_type": "code",
      "source": [
        "x = list(range(1,9))\n",
        "y = notas_matematicas\n",
        "#llamamos a la bibliteca matplotlib (plt), y utilizamos la función 'plot' para graficar\n",
        "plt.plot(x,y, marker = 'o')# -marker- es un marcador o la bolita que marca las notas\n",
        "#utilizamos la función 'title' para colocar el nombre al gráfico\n",
        "plt.title('GRAFICO DE LAS NOTAS DE MATEMATICAS')\n",
        "#para colocarle nombre a los ejes x,y\n",
        "plt.xlabel('Puebas')\n",
        "plt.ylabel('Notas')\n",
        "#utilizamos la función show para que el titulo no salga repetido y solo salga el designado anteriormente\n",
        "plt.show()"
      ],
      "metadata": {
        "colab": {
          "base_uri": "https://localhost:8080/",
          "height": 472
        },
        "id": "knn_yNv8isyT",
        "outputId": "0387007d-ea4e-4d9e-d7a5-7b6a757897e6"
      },
      "execution_count": 38,
      "outputs": [
        {
          "output_type": "display_data",
          "data": {
            "text/plain": [
              "<Figure size 640x480 with 1 Axes>"
            ],
            "image/png": "[encoded data removed]"
          },
          "metadata": {}
        }
      ]
    },
    {
      "cell_type": "code",
      "source": [
        "# Ejercicio con varias notas de 3 materias diferentes:\n",
        "import matplotlib.pyplot as plt\n",
        "\n",
        "notas_matematica = ['Matemática',8,7,6,6,7,7,8,10]\n",
        "notas_lenguaje = ['Lenguaje',9,9,9,8,5,6,8,5]\n",
        "notas_geografia = ['Geografía',10,10,6,7,7,7,8,7]\n",
        "\n",
        "notas = [notas_matematica, notas_lenguaje, notas_geografia]"
      ],
      "metadata": {
        "id": "-v-EJLxCjWaw"
      },
      "execution_count": 1,
      "outputs": []
    },
    {
      "cell_type": "code",
      "source": [
        "#utilizamos un for para recorrer todas las listas\n",
        "for nota in notas:\n",
        "  #en -nota- es donde se almacenan los datos cuando va recorriendo el 'for' las dierentes notas\n",
        "  x = list(range(1,9))\n",
        "  y = nota[1:]#en esta variable se almacena la nota de cada materia a partir del indice 1\n",
        "  plt.plot(x,y,marker='o')#fc para crear un gráfico\n",
        "  plt.title(nota[0])#alamacena el indice 0, pasa a ser el titulo del grafico\n",
        "  plt.xlabel('Examenes')#titulo de las x\n",
        "  plt.ylabel('Notas')#titulo de las y\n",
        "  plt.show()"
      ],
      "metadata": {
        "colab": {
          "base_uri": "https://localhost:8080/",
          "height": 1000
        },
        "id": "a87XAoRLmmlq",
        "outputId": "d87735fe-107e-4dc5-eee7-2269267d8d56"
      },
      "execution_count": 2,
      "outputs": [
        {
          "output_type": "display_data",
          "data": {
            "text/plain": [
              "<Figure size 640x480 with 1 Axes>"
            ],
            "image/png": "[encoded data removed]"
          },
          "metadata": {}
        },
        {
          "output_type": "display_data",
          "data": {
            "text/plain": [
              "<Figure size 640x480 with 1 Axes>"
            ],
            "image/png": "[encoded data removed]"
          },
          "metadata": {}
        },
        {
          "output_type": "display_data",
          "data": {
            "text/plain": [
              "<Figure size 640x480 with 1 Axes>"
            ],
            "image/png": "[encoded data removed]"
          },
          "metadata": {}
        }
      ]
    },
    {
      "cell_type": "code",
      "source": [],
      "metadata": {
        "id": "_tjG9rXbpGMe"
      },
      "execution_count": null,
      "outputs": []
    }
  ]
}