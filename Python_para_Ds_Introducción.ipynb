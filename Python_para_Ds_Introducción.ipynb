{
  "nbformat": 4,
  "nbformat_minor": 0,
  "metadata": {
    "colab": {
      "provenance": [],
      "authorship_tag": "ABX9TyNv/dithedoQCNwi58cU9Ll",
      "include_colab_link": true
    },
    "kernelspec": {
      "name": "python3",
      "display_name": "Python 3"
    },
    "language_info": {
      "name": "python"
    }
  },
  "cells": [
    {
      "cell_type": "markdown",
      "metadata": {
        "id": "view-in-github",
        "colab_type": "text"
      },
      "source": [
        "<a href=\"https://colab.research.google.com/github/MarcosMza/python-ds-intro/blob/main/Python_para_Ds_Introducci%C3%B3n.ipynb\" target=\"_parent\"><img src=\"https://colab.research.google.com/assets/colab-badge.svg\" alt=\"Open In Colab\"/></a>"
      ]
    },
    {
      "cell_type": "markdown",
      "source": [
        "#**Python para DS - Introducción al Lenguaje**"
      ],
      "metadata": {
        "id": "XGHRtD1IV-No"
      }
    },
    {
      "cell_type": "code",
      "execution_count": null,
      "metadata": {
        "colab": {
          "base_uri": "https://localhost:8080/"
        },
        "id": "8xxYfc11VtIu",
        "outputId": "3bde0c6e-671b-4cf7-e8b9-b84ed1c0741d"
      },
      "outputs": [
        {
          "output_type": "execute_result",
          "data": {
            "text/plain": [
              "2"
            ]
          },
          "metadata": {},
          "execution_count": 1
        }
      ],
      "source": [
        "1 + 1"
      ]
    },
    {
      "cell_type": "code",
      "source": [
        "'Marcos'"
      ],
      "metadata": {
        "colab": {
          "base_uri": "https://localhost:8080/",
          "height": 35
        },
        "id": "8Qo_blrPW03a",
        "outputId": "5c2d32c3-9643-4a5d-9b7e-f333ef308ba9"
      },
      "execution_count": null,
      "outputs": [
        {
          "output_type": "execute_result",
          "data": {
            "text/plain": [
              "'Marcos'"
            ],
            "application/vnd.google.colaboratory.intrinsic+json": {
              "type": "string"
            }
          },
          "metadata": {},
          "execution_count": 2
        }
      ]
    },
    {
      "cell_type": "code",
      "source": [
        "nombre = 'Marcos'"
      ],
      "metadata": {
        "id": "eq5mWF26XAPW"
      },
      "execution_count": null,
      "outputs": []
    },
    {
      "cell_type": "code",
      "source": [
        "nombre"
      ],
      "metadata": {
        "colab": {
          "base_uri": "https://localhost:8080/",
          "height": 35
        },
        "id": "T-0J6ovLXxQu",
        "outputId": "b4373f13-7ea3-40d9-b67b-e60d58381510"
      },
      "execution_count": null,
      "outputs": [
        {
          "output_type": "execute_result",
          "data": {
            "text/plain": [
              "'Marcos'"
            ],
            "application/vnd.google.colaboratory.intrinsic+json": {
              "type": "string"
            }
          },
          "metadata": {},
          "execution_count": 5
        }
      ]
    },
    {
      "cell_type": "code",
      "source": [
        "edad = 39"
      ],
      "metadata": {
        "id": "8JyxQ4ZDX159"
      },
      "execution_count": null,
      "outputs": []
    },
    {
      "cell_type": "code",
      "source": [
        "edad"
      ],
      "metadata": {
        "colab": {
          "base_uri": "https://localhost:8080/"
        },
        "id": "hbKz9YvnX5k9",
        "outputId": "b81d8fce-ee3d-46de-b9ec-d46d17cf9f0c"
      },
      "execution_count": null,
      "outputs": [
        {
          "output_type": "execute_result",
          "data": {
            "text/plain": [
              "39"
            ]
          },
          "metadata": {},
          "execution_count": 7
        }
      ]
    },
    {
      "cell_type": "markdown",
      "source": [
        "#Mi primera Función"
      ],
      "metadata": {
        "id": "CDu-PR3oZJWp"
      }
    },
    {
      "cell_type": "code",
      "source": [
        "# - print - Funcion primitiva de Python para imprimir el parametro o mensaje\n",
        "print('El nombre es Marcos y su edad es 39 años')"
      ],
      "metadata": {
        "colab": {
          "base_uri": "https://localhost:8080/"
        },
        "id": "NJYQP9SvX7Kd",
        "outputId": "2df71c71-e040-4f21-c781-1821271e8fd3"
      },
      "execution_count": null,
      "outputs": [
        {
          "output_type": "stream",
          "name": "stdout",
          "text": [
            "El nombre es Marcos y su edad es 39 años\n"
          ]
        }
      ]
    },
    {
      "cell_type": "code",
      "source": [
        "# haciendo uso de las variables, nombre y edad\n",
        "print(f'El nombre es {nombre} y su edad es {edad} años')"
      ],
      "metadata": {
        "colab": {
          "base_uri": "https://localhost:8080/"
        },
        "id": "LwTIZVYmZF-_",
        "outputId": "6fb141a4-18bc-44f6-a94f-16aaad73dcbd"
      },
      "execution_count": null,
      "outputs": [
        {
          "output_type": "stream",
          "name": "stdout",
          "text": [
            "El nombre es Marcos y su edad es 39 años\n"
          ]
        }
      ]
    },
    {
      "cell_type": "code",
      "source": [
        "# Definimos una función de nombre - saludar -\n",
        "def saludar():\n",
        "  # - input - función primitiva de Python para ingresar el dato por consola\n",
        "  nombre = input('Digite su nombre: ')\n",
        "  print(f'Hola {nombre} sea bienvenido!!!')"
      ],
      "metadata": {
        "id": "Yc69EsG7Z4x5"
      },
      "execution_count": null,
      "outputs": []
    },
    {
      "cell_type": "code",
      "source": [
        "saludar()"
      ],
      "metadata": {
        "colab": {
          "base_uri": "https://localhost:8080/"
        },
        "id": "7RcMOvbBaxjc",
        "outputId": "55caf092-5de7-4d32-8d1a-f1d0061b32c3"
      },
      "execution_count": null,
      "outputs": [
        {
          "output_type": "stream",
          "name": "stdout",
          "text": [
            "Digite su nombre: Marcos\n",
            "Hola Marcos sea bienvenido!!!\n"
          ]
        }
      ]
    },
    {
      "cell_type": "code",
      "source": [
        "saludar()"
      ],
      "metadata": {
        "colab": {
          "base_uri": "https://localhost:8080/"
        },
        "id": "pbjVqxrHbMhM",
        "outputId": "5b08a821-659d-499d-bd0e-8771da733c2f"
      },
      "execution_count": null,
      "outputs": [
        {
          "output_type": "stream",
          "name": "stdout",
          "text": [
            "Digite su nombre: Veronica\n",
            "Hola Veronica sea bienvenido!!!\n"
          ]
        }
      ]
    },
    {
      "cell_type": "code",
      "source": [
        "# Definimos la función - nombre completo -\n",
        "def nombre_completo():\n",
        "   # utilizamos -input- para ingresar el nombre por teclado\n",
        "   primer_nombre = input('¿Cuál es tu primer nombre? ')\n",
        "   # utilizamos -input- para ingresar el apellido por teclado\n",
        "   apellido = input('¿Cuál es tu apellido? ')\n",
        "   # realizamos la concatenacion de las dos variables\n",
        "   nombre_completo = primer_nombre + ' ' + apellido\n",
        "   print(nombre_completo)\n",
        "\n",
        "# hacemos el llamado de la funcion para poder ver por pantalla\n",
        "nombre_completo()"
      ],
      "metadata": {
        "colab": {
          "base_uri": "https://localhost:8080/"
        },
        "id": "_g9PMrGSbSSa",
        "outputId": "666e6f86-a84f-41b2-877f-12cfc4a6dee4"
      },
      "execution_count": null,
      "outputs": [
        {
          "output_type": "stream",
          "name": "stdout",
          "text": [
            "¿Cuál es tu primer nombre? Marcos\n",
            "¿Cuál es tu apellido? Lana\n",
            "Marcos Lana\n"
          ]
        }
      ]
    },
    {
      "cell_type": "markdown",
      "source": [
        "#Parámetros"
      ],
      "metadata": {
        "id": "29JKfgdQs6ep"
      }
    },
    {
      "cell_type": "code",
      "source": [
        "nombre = 'Veronica'"
      ],
      "metadata": {
        "id": "d2RmR00vsIam"
      },
      "execution_count": null,
      "outputs": []
    },
    {
      "cell_type": "code",
      "source": [
        "def saludar_con_parametros(nombre):\n",
        "  print(f'Hola {nombre} sea bienvenida!!!')"
      ],
      "metadata": {
        "id": "PdcrSw69sMuK"
      },
      "execution_count": null,
      "outputs": []
    },
    {
      "cell_type": "code",
      "source": [
        "saludar_con_parametros(nombre)"
      ],
      "metadata": {
        "colab": {
          "base_uri": "https://localhost:8080/"
        },
        "id": "AMOZVkDlshh2",
        "outputId": "50e31cb5-fe5c-414b-9aa5-c1bf826a3def"
      },
      "execution_count": null,
      "outputs": [
        {
          "output_type": "stream",
          "name": "stdout",
          "text": [
            "Hola Veronica sea bienvenida!!!\n"
          ]
        }
      ]
    },
    {
      "cell_type": "code",
      "source": [],
      "metadata": {
        "id": "doi31bXrsk_l"
      },
      "execution_count": null,
      "outputs": []
    }
  ]
}