{
  "nbformat": 4,
  "nbformat_minor": 0,
  "metadata": {
    "colab": {
      "provenance": [],
      "authorship_tag": "ABX9TyOzzGe3EUk5b9lR4HadDNTC",
      "include_colab_link": true
    },
    "kernelspec": {
      "name": "python3",
      "display_name": "Python 3"
    },
    "language_info": {
      "name": "python"
    }
  },
  "cells": [
    {
      "cell_type": "markdown",
      "metadata": {
        "id": "view-in-github",
        "colab_type": "text"
      },
      "source": [
        "<a href=\"https://colab.research.google.com/github/MarcosMza/python-ds-intro/blob/main/Python_para_Ds_Introducci%C3%B3n.ipynb\" target=\"_parent\"><img src=\"https://colab.research.google.com/assets/colab-badge.svg\" alt=\"Open In Colab\"/></a>"
      ]
    },
    {
      "cell_type": "markdown",
      "source": [
        "#**Python para DS - Introducción al Lenguaje**"
      ],
      "metadata": {
        "id": "XGHRtD1IV-No"
      }
    },
    {
      "cell_type": "code",
      "execution_count": null,
      "metadata": {
        "colab": {
          "base_uri": "https://localhost:8080/"
        },
        "id": "8xxYfc11VtIu",
        "outputId": "3bde0c6e-671b-4cf7-e8b9-b84ed1c0741d"
      },
      "outputs": [
        {
          "output_type": "execute_result",
          "data": {
            "text/plain": [
              "2"
            ]
          },
          "metadata": {},
          "execution_count": 1
        }
      ],
      "source": [
        "1 + 1"
      ]
    },
    {
      "cell_type": "code",
      "source": [
        "'Marcos'"
      ],
      "metadata": {
        "colab": {
          "base_uri": "https://localhost:8080/",
          "height": 35
        },
        "id": "8Qo_blrPW03a",
        "outputId": "5c2d32c3-9643-4a5d-9b7e-f333ef308ba9"
      },
      "execution_count": null,
      "outputs": [
        {
          "output_type": "execute_result",
          "data": {
            "text/plain": [
              "'Marcos'"
            ],
            "application/vnd.google.colaboratory.intrinsic+json": {
              "type": "string"
            }
          },
          "metadata": {},
          "execution_count": 2
        }
      ]
    },
    {
      "cell_type": "code",
      "source": [
        "nombre = 'Marcos'"
      ],
      "metadata": {
        "id": "eq5mWF26XAPW"
      },
      "execution_count": null,
      "outputs": []
    },
    {
      "cell_type": "code",
      "source": [
        "nombre"
      ],
      "metadata": {
        "colab": {
          "base_uri": "https://localhost:8080/",
          "height": 35
        },
        "id": "T-0J6ovLXxQu",
        "outputId": "b4373f13-7ea3-40d9-b67b-e60d58381510"
      },
      "execution_count": null,
      "outputs": [
        {
          "output_type": "execute_result",
          "data": {
            "text/plain": [
              "'Marcos'"
            ],
            "application/vnd.google.colaboratory.intrinsic+json": {
              "type": "string"
            }
          },
          "metadata": {},
          "execution_count": 5
        }
      ]
    },
    {
      "cell_type": "code",
      "source": [
        "edad = 39"
      ],
      "metadata": {
        "id": "8JyxQ4ZDX159"
      },
      "execution_count": null,
      "outputs": []
    },
    {
      "cell_type": "code",
      "source": [
        "edad"
      ],
      "metadata": {
        "colab": {
          "base_uri": "https://localhost:8080/"
        },
        "id": "hbKz9YvnX5k9",
        "outputId": "b81d8fce-ee3d-46de-b9ec-d46d17cf9f0c"
      },
      "execution_count": null,
      "outputs": [
        {
          "output_type": "execute_result",
          "data": {
            "text/plain": [
              "39"
            ]
          },
          "metadata": {},
          "execution_count": 7
        }
      ]
    },
    {
      "cell_type": "markdown",
      "source": [
        "#Mi primera Función"
      ],
      "metadata": {
        "id": "CDu-PR3oZJWp"
      }
    },
    {
      "cell_type": "code",
      "source": [
        "# - print - Funcion primitiva de Python para imprimir el parametro o mensaje\n",
        "print('El nombre es Marcos y su edad es 39 años')"
      ],
      "metadata": {
        "colab": {
          "base_uri": "https://localhost:8080/"
        },
        "id": "NJYQP9SvX7Kd",
        "outputId": "2df71c71-e040-4f21-c781-1821271e8fd3"
      },
      "execution_count": null,
      "outputs": [
        {
          "output_type": "stream",
          "name": "stdout",
          "text": [
            "El nombre es Marcos y su edad es 39 años\n"
          ]
        }
      ]
    },
    {
      "cell_type": "code",
      "source": [
        "# haciendo uso de las variables, nombre y edad\n",
        "print(f'El nombre es {nombre} y su edad es {edad} años')"
      ],
      "metadata": {
        "colab": {
          "base_uri": "https://localhost:8080/"
        },
        "id": "LwTIZVYmZF-_",
        "outputId": "6fb141a4-18bc-44f6-a94f-16aaad73dcbd"
      },
      "execution_count": null,
      "outputs": [
        {
          "output_type": "stream",
          "name": "stdout",
          "text": [
            "El nombre es Marcos y su edad es 39 años\n"
          ]
        }
      ]
    },
    {
      "cell_type": "code",
      "source": [
        "# Definimos una función de nombre - saludar -\n",
        "def saludar():\n",
        "  # - input - función primitiva de Python para ingresar el dato por consola\n",
        "  nombre = input('Digite su nombre: ')\n",
        "  print(f'Hola {nombre} sea bienvenido!!!')"
      ],
      "metadata": {
        "id": "Yc69EsG7Z4x5"
      },
      "execution_count": null,
      "outputs": []
    },
    {
      "cell_type": "code",
      "source": [
        "saludar()"
      ],
      "metadata": {
        "colab": {
          "base_uri": "https://localhost:8080/"
        },
        "id": "7RcMOvbBaxjc",
        "outputId": "55caf092-5de7-4d32-8d1a-f1d0061b32c3"
      },
      "execution_count": null,
      "outputs": [
        {
          "output_type": "stream",
          "name": "stdout",
          "text": [
            "Digite su nombre: Marcos\n",
            "Hola Marcos sea bienvenido!!!\n"
          ]
        }
      ]
    },
    {
      "cell_type": "code",
      "source": [
        "saludar()"
      ],
      "metadata": {
        "colab": {
          "base_uri": "https://localhost:8080/"
        },
        "id": "pbjVqxrHbMhM",
        "outputId": "5b08a821-659d-499d-bd0e-8771da733c2f"
      },
      "execution_count": null,
      "outputs": [
        {
          "output_type": "stream",
          "name": "stdout",
          "text": [
            "Digite su nombre: Veronica\n",
            "Hola Veronica sea bienvenido!!!\n"
          ]
        }
      ]
    },
    {
      "cell_type": "code",
      "source": [
        "# Definimos la función - nombre completo -\n",
        "def nombre_completo():\n",
        "   # utilizamos -input- para ingresar el nombre por teclado\n",
        "   primer_nombre = input('¿Cuál es tu primer nombre? ')\n",
        "   # utilizamos -input- para ingresar el apellido por teclado\n",
        "   apellido = input('¿Cuál es tu apellido? ')\n",
        "   # realizamos la concatenacion de las dos variables\n",
        "   nombre_completo = primer_nombre + ' ' + apellido\n",
        "   print(nombre_completo)\n",
        "\n",
        "# hacemos el llamado de la funcion para poder ver por pantalla\n",
        "nombre_completo()"
      ],
      "metadata": {
        "colab": {
          "base_uri": "https://localhost:8080/"
        },
        "id": "_g9PMrGSbSSa",
        "outputId": "666e6f86-a84f-41b2-877f-12cfc4a6dee4"
      },
      "execution_count": null,
      "outputs": [
        {
          "output_type": "stream",
          "name": "stdout",
          "text": [
            "¿Cuál es tu primer nombre? Marcos\n",
            "¿Cuál es tu apellido? Lana\n",
            "Marcos Lana\n"
          ]
        }
      ]
    },
    {
      "cell_type": "markdown",
      "source": [
        "#Parámetros"
      ],
      "metadata": {
        "id": "29JKfgdQs6ep"
      }
    },
    {
      "cell_type": "code",
      "source": [
        "nombre = 'Veronica'"
      ],
      "metadata": {
        "id": "d2RmR00vsIam"
      },
      "execution_count": null,
      "outputs": []
    },
    {
      "cell_type": "code",
      "source": [
        "def saludar_con_parametros(nombre):\n",
        "  print(f'Hola {nombre} sea bienvenida!!!')"
      ],
      "metadata": {
        "id": "PdcrSw69sMuK"
      },
      "execution_count": null,
      "outputs": []
    },
    {
      "cell_type": "code",
      "source": [
        "saludar_con_parametros(nombre)"
      ],
      "metadata": {
        "colab": {
          "base_uri": "https://localhost:8080/"
        },
        "id": "AMOZVkDlshh2",
        "outputId": "50e31cb5-fe5c-414b-9aa5-c1bf826a3def"
      },
      "execution_count": null,
      "outputs": [
        {
          "output_type": "stream",
          "name": "stdout",
          "text": [
            "Hola Veronica sea bienvenida!!!\n"
          ]
        }
      ]
    },
    {
      "cell_type": "code",
      "source": [
        "# Ejercicio de prueba: Calulo de Velocidad de una persona que camina 100 en 20 seg\n",
        "# Definimos la func. velocidad con los argumentos espacio y tiempo\n",
        "def velocidad(espacio, tiempo):\n",
        "  v = espacio/tiempo\n",
        "  print(f'velocidad {v} m/s ')\n",
        "# Realizamos la llamada de la func\n",
        "velocidad(100,20)"
      ],
      "metadata": {
        "id": "doi31bXrsk_l",
        "colab": {
          "base_uri": "https://localhost:8080/"
        },
        "outputId": "566ca131-d3f2-4eca-8361-0e7373d0d0b5"
      },
      "execution_count": null,
      "outputs": [
        {
          "output_type": "stream",
          "name": "stdout",
          "text": [
            "velocidad 5.0 m/s \n"
          ]
        }
      ]
    },
    {
      "cell_type": "markdown",
      "source": [
        "#Condicionales"
      ],
      "metadata": {
        "id": "IoZT1c0F8XAt"
      }
    },
    {
      "cell_type": "code",
      "source": [
        "# En este caso vamos a utilizar el condicional if = si, y else = sino\n",
        "# (if) Si es éste caso, o (else) es éste otro caso\n",
        "edad = 15\n",
        "\n",
        "def verificar_si_puede_conducir(edad):\n",
        "  if edad >= 18:\n",
        "    print(\"Usted tiene edad suficiente para conducir\")\n",
        "  else:\n",
        "    print(\"Usted NO tiene edad suficiente para condicir\")\n",
        "\n",
        "verificar_si_puede_conducir(edad)"
      ],
      "metadata": {
        "colab": {
          "base_uri": "https://localhost:8080/"
        },
        "id": "EdvmDOm45KTL",
        "outputId": "7a3881dd-d893-4e95-8e2e-9c2fdd8bdec6"
      },
      "execution_count": null,
      "outputs": [
        {
          "output_type": "stream",
          "name": "stdout",
          "text": [
            "Usted NO tiene edad suficiente para condicir\n"
          ]
        }
      ]
    },
    {
      "cell_type": "code",
      "source": [
        "# Ejemplo de una nota de un alumno con if, else anidados\n",
        "# la func clasificar_nps busca segun lo que tiene como parametro, La nota del alumno\n",
        "\n",
        "def clasificar_nps(nota):\n",
        "  if nota <= 6:\n",
        "    print('El alumno es considerado Detractor')\n",
        "  else:\n",
        "    if nota <= 8:\n",
        "      print('El alumno es considerado Neutro')\n",
        "    else:\n",
        "      print('El alumno es considerado Promotor')\n",
        "\n",
        "clasificar_nps(9)\n"
      ],
      "metadata": {
        "colab": {
          "base_uri": "https://localhost:8080/"
        },
        "id": "cN4tQ4LN5-PK",
        "outputId": "1a85a6d0-b90d-4ecb-87df-27c369a20ef5"
      },
      "execution_count": null,
      "outputs": [
        {
          "output_type": "stream",
          "name": "stdout",
          "text": [
            "El alumno es considerado Promotor\n"
          ]
        }
      ]
    },
    {
      "cell_type": "markdown",
      "source": [
        "#Condicionales sin parámetro y conversión de tipo de dato"
      ],
      "metadata": {
        "id": "PLULxx0r-k10"
      }
    },
    {
      "cell_type": "code",
      "source": [
        "def verificar_si_puede_conducir_sin_parametros():\n",
        "  # Tener cuidado porque al ingresar por teclado, se ingresa un str\n",
        "  edad = input('Digite su edad: ')\n",
        "  # de ésta forma transformamos la variable 'edad' de str a int\n",
        "  edad = int(edad)\n",
        "  if edad >= 18:\n",
        "    print(\"Usted tiene edad suficiente para conducir\")\n",
        "  else:\n",
        "    print(\"Usted NO tiene edad suficiente para condicir\")\n",
        "\n",
        "verificar_si_puede_conducir_sin_parametros()"
      ],
      "metadata": {
        "colab": {
          "base_uri": "https://localhost:8080/"
        },
        "id": "XAtlp8pB8Edm",
        "outputId": "a829825f-1bbc-4dde-a7b5-153545372d63"
      },
      "execution_count": null,
      "outputs": [
        {
          "output_type": "stream",
          "name": "stdout",
          "text": [
            "Digite su edad: 20\n",
            "Usted tiene edad suficiente para conducir\n"
          ]
        }
      ]
    },
    {
      "cell_type": "code",
      "source": [
        "# Ejercicio para predecir la edad para poder conducir, según la edad ingresada por el usuario\n",
        "def permiso_de_conducir():\n",
        " edad = input('¿Cuál es tu edad? ')\n",
        " edad = int(edad)\n",
        " if edad >= 18:\n",
        "   print('Ya tienes edad suficiente para obtener permiso de conducir')\n",
        " else:\n",
        "   # en este paso se calcula en la variable tiempo de 18 años que se tiene que tener para condicir\n",
        "   # menos la edad ingresada y calcular cuanto tiempo queda para poder tener permiso de conducir\n",
        "   tiempo = 18 - edad\n",
        "   print(f'Tranquilo, faltan {tiempo} año(s) para obtener permiso de conducir')\n",
        "\n",
        "permiso_de_conducir()"
      ],
      "metadata": {
        "colab": {
          "base_uri": "https://localhost:8080/"
        },
        "id": "uxF6CdSC9Ouz",
        "outputId": "9b4d639a-4f8a-497f-9c18-7ac25636595c"
      },
      "execution_count": null,
      "outputs": [
        {
          "output_type": "stream",
          "name": "stdout",
          "text": [
            "¿Cuál es tu edad? 15\n",
            "Tranquilo, faltan 3 año(s) para obtener permiso de conducir\n"
          ]
        }
      ]
    },
    {
      "cell_type": "markdown",
      "source": [
        "#Listas"
      ],
      "metadata": {
        "id": "6q-rMTSJOWKs"
      }
    },
    {
      "cell_type": "code",
      "source": [
        "# Listas - numeros entre corchetes, separados por ,\n",
        "edades = [18,15,12,45,50]"
      ],
      "metadata": {
        "id": "nlHk44eVNTnN"
      },
      "execution_count": null,
      "outputs": []
    },
    {
      "cell_type": "code",
      "source": [
        "edades"
      ],
      "metadata": {
        "colab": {
          "base_uri": "https://localhost:8080/"
        },
        "id": "vSOifagPNwUm",
        "outputId": "b52a56f3-fdaf-4175-d6f8-ed986d3f4f88"
      },
      "execution_count": null,
      "outputs": [
        {
          "output_type": "execute_result",
          "data": {
            "text/plain": [
              "[18, 15, 12, 45, 50]"
            ]
          },
          "metadata": {},
          "execution_count": 40
        }
      ]
    },
    {
      "cell_type": "code",
      "source": [
        "# Función -type- nos da el tipo de tatos con el que estamos trabajando\n",
        "type(edad)"
      ],
      "metadata": {
        "colab": {
          "base_uri": "https://localhost:8080/"
        },
        "id": "JNjnQbuJNxk1",
        "outputId": "feb71b69-5da5-4510-f15f-4205ac9a8494"
      },
      "execution_count": null,
      "outputs": [
        {
          "output_type": "execute_result",
          "data": {
            "text/plain": [
              "int"
            ]
          },
          "metadata": {},
          "execution_count": 41
        }
      ]
    },
    {
      "cell_type": "code",
      "source": [
        "type(nombre)"
      ],
      "metadata": {
        "colab": {
          "base_uri": "https://localhost:8080/"
        },
        "id": "zHcDKCcVOFYf",
        "outputId": "49afb3f3-eed5-4308-a3c0-4952ca596a1a"
      },
      "execution_count": null,
      "outputs": [
        {
          "output_type": "execute_result",
          "data": {
            "text/plain": [
              "str"
            ]
          },
          "metadata": {},
          "execution_count": 42
        }
      ]
    },
    {
      "cell_type": "code",
      "source": [
        "type(edades)"
      ],
      "metadata": {
        "colab": {
          "base_uri": "https://localhost:8080/"
        },
        "id": "jrwkzeCdOJIl",
        "outputId": "db08b4d7-03a5-470a-f5dc-7742c77ce753"
      },
      "execution_count": null,
      "outputs": [
        {
          "output_type": "execute_result",
          "data": {
            "text/plain": [
              "list"
            ]
          },
          "metadata": {},
          "execution_count": 43
        }
      ]
    },
    {
      "cell_type": "code",
      "source": [
        "#Para poder acceder a los valores de la lista edades, lo realizamos con el uso de indices\n",
        "edades"
      ],
      "metadata": {
        "colab": {
          "base_uri": "https://localhost:8080/"
        },
        "id": "xmS4oHEoOMpl",
        "outputId": "13fa8ac6-b155-4729-ced9-786f776f694c"
      },
      "execution_count": null,
      "outputs": [
        {
          "output_type": "execute_result",
          "data": {
            "text/plain": [
              "[18, 15, 12, 45, 50]"
            ]
          },
          "metadata": {},
          "execution_count": 44
        }
      ]
    },
    {
      "cell_type": "code",
      "source": [
        "# tener en cuenta que el Python el primero valor = la posición 0\n",
        "# [18,15,12,45,50]\n",
        "#   0  1  2  3  4\n",
        "edades[1]"
      ],
      "metadata": {
        "colab": {
          "base_uri": "https://localhost:8080/"
        },
        "id": "zpCvRz0_O773",
        "outputId": "077081d2-2b78-4047-ae1b-47238c429a4b"
      },
      "execution_count": null,
      "outputs": [
        {
          "output_type": "execute_result",
          "data": {
            "text/plain": [
              "15"
            ]
          },
          "metadata": {},
          "execution_count": 45
        }
      ]
    },
    {
      "cell_type": "code",
      "source": [
        "# cuando quiero traer varios valores al mismo tiempo, en este caso no se toma el ultimo valor\n",
        "edades[0:2]"
      ],
      "metadata": {
        "colab": {
          "base_uri": "https://localhost:8080/"
        },
        "id": "MTpJIKZgPbqW",
        "outputId": "1018ca82-a243-4701-8d30-ffbb146441f1"
      },
      "execution_count": null,
      "outputs": [
        {
          "output_type": "execute_result",
          "data": {
            "text/plain": [
              "[18, 15]"
            ]
          },
          "metadata": {},
          "execution_count": 46
        }
      ]
    },
    {
      "cell_type": "code",
      "source": [
        "# cuando quiero llamar a todos\n",
        "edades [:]"
      ],
      "metadata": {
        "colab": {
          "base_uri": "https://localhost:8080/"
        },
        "id": "E4Qzl4AkPxRC",
        "outputId": "01cea412-4d3b-4cb3-9d7b-671d1473d366"
      },
      "execution_count": null,
      "outputs": [
        {
          "output_type": "execute_result",
          "data": {
            "text/plain": [
              "[18, 15, 12, 45, 50]"
            ]
          },
          "metadata": {},
          "execution_count": 47
        }
      ]
    },
    {
      "cell_type": "code",
      "source": [
        "# tambien podemos ralizar el llamado desde otro indice\n",
        "edades[2:]"
      ],
      "metadata": {
        "colab": {
          "base_uri": "https://localhost:8080/"
        },
        "id": "RCncy5UEP5Cf",
        "outputId": "d2233d12-7528-4aec-f379-bb04b7e1d5ae"
      },
      "execution_count": null,
      "outputs": [
        {
          "output_type": "execute_result",
          "data": {
            "text/plain": [
              "[12, 45, 50]"
            ]
          },
          "metadata": {},
          "execution_count": 48
        }
      ]
    },
    {
      "cell_type": "code",
      "source": [
        "# en caso de querer recorrer la lista de izquierda a derecha\n",
        "# [18,15,12,45,50]\n",
        "#   0  1  2  3  4\n",
        "#   0 -4 -3 -2 -1\n",
        "\n",
        "#de izq a der\n",
        "edades[-1]"
      ],
      "metadata": {
        "colab": {
          "base_uri": "https://localhost:8080/"
        },
        "id": "_kCRYlKFQNM6",
        "outputId": "4f2d37a3-eef8-4123-9e8b-60dafa2edd49"
      },
      "execution_count": null,
      "outputs": [
        {
          "output_type": "execute_result",
          "data": {
            "text/plain": [
              "50"
            ]
          },
          "metadata": {},
          "execution_count": 52
        }
      ]
    },
    {
      "cell_type": "code",
      "source": [
        "#de der a izq\n",
        "edades[2]"
      ],
      "metadata": {
        "colab": {
          "base_uri": "https://localhost:8080/"
        },
        "id": "snDt_vbRQtPh",
        "outputId": "ceda989b-c2db-45ea-e468-93f697376cb6"
      },
      "execution_count": null,
      "outputs": [
        {
          "output_type": "execute_result",
          "data": {
            "text/plain": [
              "12"
            ]
          },
          "metadata": {},
          "execution_count": 53
        }
      ]
    },
    {
      "cell_type": "code",
      "source": [
        "# Ejercicio: con palabras desordenadas armar la frase - Cursos de Tecnología y Negocios  Digitales\n",
        "frase_alura = [' Digitales', 'y ', 'Negocios ', 'de ', 'Tecnología ', 'Cursos ']\n",
        "# de der a izq\n",
        "frase_alura[5] + frase_alura[3] + frase_alura[4] + frase_alura[1] + frase_alura[2] + frase_alura[0]\n",
        "# de izq a der\n",
        "# frase_alura[-1] + frase_alura[-3] + frase_alura[-2] + frase_alura[-5] + frase_alura[-4] + frase_alura[0]"
      ],
      "metadata": {
        "colab": {
          "base_uri": "https://localhost:8080/",
          "height": 35
        },
        "id": "4SFmH4UmRk00",
        "outputId": "048d497f-68a1-4c4f-fd74-1461acd6d745"
      },
      "execution_count": null,
      "outputs": [
        {
          "output_type": "execute_result",
          "data": {
            "text/plain": [
              "'Cursos de Tecnología y Negocios  Digitales'"
            ],
            "application/vnd.google.colaboratory.intrinsic+json": {
              "type": "string"
            }
          },
          "metadata": {},
          "execution_count": 55
        }
      ]
    },
    {
      "cell_type": "markdown",
      "source": [
        "#Ciclos y Bucles  "
      ],
      "metadata": {
        "id": "sW0N_C11V2LS"
      }
    },
    {
      "cell_type": "code",
      "source": [
        "#Bucle fuera de la Función\n",
        "# en este caso aplicaremos el ciclo 'for'-  conocido como ciclo 'para'\n",
        "edades = [18,15,12,45,50]\n",
        "\n",
        "def verificar_si_puede_conducir(edad):\n",
        "  if edad >= 18:\n",
        "    print(\"Usted tiene edad suficiente para conducir\")\n",
        "  else:\n",
        "    print(\"Usted NO tiene edad suficiente para condicir\")\n",
        "\n",
        "#para cada edad dentro de la lista edades: lo vamos a pasar al lenguaje Python\n",
        "for edad in edades:\n",
        "  verificar_si_puede_conducir(edad)"
      ],
      "metadata": {
        "colab": {
          "base_uri": "https://localhost:8080/"
        },
        "id": "fi_vuJA7ScGj",
        "outputId": "cc9af4c1-d18d-492b-b24f-163ddb006170"
      },
      "execution_count": null,
      "outputs": [
        {
          "output_type": "stream",
          "name": "stdout",
          "text": [
            "Usted tiene edad suficiente para conducir\n",
            "Usted NO tiene edad suficiente para condicir\n",
            "Usted NO tiene edad suficiente para condicir\n",
            "Usted tiene edad suficiente para conducir\n",
            "Usted tiene edad suficiente para conducir\n"
          ]
        }
      ]
    },
    {
      "cell_type": "code",
      "source": [
        "#Bucle dentro de la Función\n",
        "edades = [18,15,12,45,50]\n",
        "\n",
        "def verificar_si_puede_conducir_con_bucle(edades):\n",
        "  for edad in edades:\n",
        "    if edad >= 18:\n",
        "      print(\"Usted tiene edad suficiente para conducir\")\n",
        "    else:\n",
        "      print(\"Usted NO tiene edad suficiente para condicir\")\n",
        "\n",
        "verificar_si_puede_conducir_con_bucle(edades)"
      ],
      "metadata": {
        "colab": {
          "base_uri": "https://localhost:8080/"
        },
        "id": "z0NlRq-7WMTb",
        "outputId": "5c2ea06a-a8b6-4844-b30f-eb91ca0c2c3b"
      },
      "execution_count": null,
      "outputs": [
        {
          "output_type": "stream",
          "name": "stdout",
          "text": [
            "Usted tiene edad suficiente para conducir\n",
            "Usted NO tiene edad suficiente para condicir\n",
            "Usted NO tiene edad suficiente para condicir\n",
            "Usted tiene edad suficiente para conducir\n",
            "Usted tiene edad suficiente para conducir\n"
          ]
        }
      ]
    },
    {
      "cell_type": "code",
      "source": [],
      "metadata": {
        "id": "WFcYtjtjWsmK"
      },
      "execution_count": null,
      "outputs": []
    }
  ]
}